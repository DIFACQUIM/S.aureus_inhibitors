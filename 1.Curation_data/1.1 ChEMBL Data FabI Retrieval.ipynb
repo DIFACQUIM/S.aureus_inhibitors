{
 "cells": [
  {
   "cell_type": "code",
   "execution_count": null,
   "id": "62f02b85-550d-43d2-bdb2-3c4a9c66a707",
   "metadata": {},
   "outputs": [],
   "source": [
    "!pip install chembl_webresource_client"
   ]
  },
  {
   "cell_type": "code",
   "execution_count": 1,
   "id": "c2be6a83",
   "metadata": {},
   "outputs": [],
   "source": [
    "import pandas as pd\n",
    "from chembl_webresource_client.new_client import new_client # Provides a new client to access the ChEMBL API.\n",
    "from chembl_webresource_client.utils import utils # Provides utility functions for working with the Ch\n"
   ]
  },
  {
   "cell_type": "code",
   "execution_count": 2,
   "id": "ddb9ae04",
   "metadata": {},
   "outputs": [
    {
     "data": {
      "text/html": [
       "<div>\n",
       "<style scoped>\n",
       "    .dataframe tbody tr th:only-of-type {\n",
       "        vertical-align: middle;\n",
       "    }\n",
       "\n",
       "    .dataframe tbody tr th {\n",
       "        vertical-align: top;\n",
       "    }\n",
       "\n",
       "    .dataframe thead th {\n",
       "        text-align: right;\n",
       "    }\n",
       "</style>\n",
       "<table border=\"1\" class=\"dataframe\">\n",
       "  <thead>\n",
       "    <tr style=\"text-align: right;\">\n",
       "      <th></th>\n",
       "      <th>action_type</th>\n",
       "      <th>assay_chembl_id</th>\n",
       "      <th>assay_description</th>\n",
       "      <th>canonical_smiles</th>\n",
       "      <th>ligand_efficiency</th>\n",
       "      <th>molecule_chembl_id</th>\n",
       "      <th>molecule_pref_name</th>\n",
       "      <th>standard_type</th>\n",
       "      <th>standard_units</th>\n",
       "      <th>standard_value</th>\n",
       "      <th>target_chembl_id</th>\n",
       "      <th>target_organism</th>\n",
       "      <th>type</th>\n",
       "      <th>units</th>\n",
       "      <th>value</th>\n",
       "    </tr>\n",
       "  </thead>\n",
       "  <tbody>\n",
       "    <tr>\n",
       "      <th>0</th>\n",
       "      <td>None</td>\n",
       "      <td>CHEMBL677578</td>\n",
       "      <td>Inhibitory activity against Enoyl-ACP reductas...</td>\n",
       "      <td>Cc1cccc2c(CN(C)C(=O)/C=C/c3cnc4c(c3)CCC(=O)N4)...</td>\n",
       "      <td>{'bei': '19.13', 'le': '0.35', 'lle': '3.95', ...</td>\n",
       "      <td>CHEMBL46425</td>\n",
       "      <td>None</td>\n",
       "      <td>IC50</td>\n",
       "      <td>nM</td>\n",
       "      <td>20.0</td>\n",
       "      <td>CHEMBL3994</td>\n",
       "      <td>Staphylococcus aureus</td>\n",
       "      <td>IC50</td>\n",
       "      <td>uM</td>\n",
       "      <td>0.02</td>\n",
       "    </tr>\n",
       "  </tbody>\n",
       "</table>\n",
       "</div>"
      ],
      "text/plain": [
       "  action_type assay_chembl_id  \\\n",
       "0        None    CHEMBL677578   \n",
       "\n",
       "                                   assay_description  \\\n",
       "0  Inhibitory activity against Enoyl-ACP reductas...   \n",
       "\n",
       "                                    canonical_smiles  \\\n",
       "0  Cc1cccc2c(CN(C)C(=O)/C=C/c3cnc4c(c3)CCC(=O)N4)...   \n",
       "\n",
       "                                   ligand_efficiency molecule_chembl_id  \\\n",
       "0  {'bei': '19.13', 'le': '0.35', 'lle': '3.95', ...        CHEMBL46425   \n",
       "\n",
       "  molecule_pref_name standard_type standard_units standard_value  \\\n",
       "0               None          IC50             nM           20.0   \n",
       "\n",
       "  target_chembl_id        target_organism  type units value  \n",
       "0       CHEMBL3994  Staphylococcus aureus  IC50    uM  0.02  "
      ]
     },
     "execution_count": 2,
     "metadata": {},
     "output_type": "execute_result"
    }
   ],
   "source": [
    "#Staphylococcus aureus\n",
    "actividad = new_client.activity\n",
    "\n",
    "res = actividad.filter(target_chembl_id = 'CHEMBL3994', assay_type=\"B\").only(['action_type',\n",
    "                                                                              'assay_description',\n",
    "                                                                              'molecule_chembl_id','ligand_efficiency', \n",
    "                                                                              'molecule_pref_name','standard_type', \n",
    "                                                                              'standard_units', 'standard_value',\n",
    "                                                                              'target_chembl_id','target_organism',\n",
    "                                                                              'canonical_smiles', 'assay_chembl_id',\n",
    "                                                                              'confidence_score','confidence_description'])\n",
    "df = pd.DataFrame.from_records(res)\n",
    "df.head(1)\n"
   ]
  },
  {
   "cell_type": "code",
   "execution_count": 9,
   "id": "1e5e8edb-f33b-403b-9f3e-b2233b4c05f9",
   "metadata": {},
   "outputs": [
    {
     "data": {
      "text/plain": [
       "398"
      ]
     },
     "execution_count": 9,
     "metadata": {},
     "output_type": "execute_result"
    }
   ],
   "source": [
    "len(df)"
   ]
  },
  {
   "cell_type": "code",
   "execution_count": 10,
   "id": "46b4b7e6",
   "metadata": {},
   "outputs": [],
   "source": [
    "# Remove duplicates based on 'canonical_smiles' and 'assay_chembl_id' and keep the first occurrence of each\n",
    "df_with_no_duplicates = df.drop_duplicates(subset=['canonical_smiles', 'assay_chembl_id'], keep='first')\n",
    "\n",
    "# Save the DataFrame of duplicates to a new file\n",
    "df_with_no_duplicates.to_excel('df_without_duplicates_smiles_assaysid_fabi_saures.xlsx', index=False)\n"
   ]
  },
  {
   "cell_type": "code",
   "execution_count": 11,
   "id": "a0e5e17f",
   "metadata": {},
   "outputs": [
    {
     "data": {
      "text/plain": [
       "395"
      ]
     },
     "execution_count": 11,
     "metadata": {},
     "output_type": "execute_result"
    }
   ],
   "source": [
    "len(df_with_no_duplicates)"
   ]
  },
  {
   "cell_type": "code",
   "execution_count": 12,
   "id": "9810c123",
   "metadata": {},
   "outputs": [],
   "source": [
    "# Create a DataFrame with entries that contain the same 'canonical_smiles' and 'assay_chembl_id'\n",
    "df_duplicates = df[df.duplicated(subset=['canonical_smiles', 'assay_chembl_id'], keep=False)]\n",
    "\n",
    "# Save the DataFrame of duplicates to a new file\n",
    "df_duplicates.to_excel('df_duplicates_smiles_assaysid_fabi_saures.xlsx', index=False)\n"
   ]
  },
  {
   "cell_type": "code",
   "execution_count": 13,
   "id": "5d089130",
   "metadata": {},
   "outputs": [
    {
     "data": {
      "text/plain": [
       "6"
      ]
     },
     "execution_count": 13,
     "metadata": {},
     "output_type": "execute_result"
    }
   ],
   "source": [
    "len(df_duplicates)"
   ]
  },
  {
   "cell_type": "code",
   "execution_count": null,
   "id": "a445baef",
   "metadata": {},
   "outputs": [],
   "source": []
  }
 ],
 "metadata": {
  "kernelspec": {
   "display_name": "Python 3 (ipykernel)",
   "language": "python",
   "name": "python3"
  },
  "language_info": {
   "codemirror_mode": {
    "name": "ipython",
    "version": 3
   },
   "file_extension": ".py",
   "mimetype": "text/x-python",
   "name": "python",
   "nbconvert_exporter": "python",
   "pygments_lexer": "ipython3",
   "version": "3.12.7"
  }
 },
 "nbformat": 4,
 "nbformat_minor": 5
}
