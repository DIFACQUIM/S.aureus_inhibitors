{
 "cells": [
  {
   "cell_type": "markdown",
   "id": "294e1b49-44fd-4b7f-9d31-da50d96193b7",
   "metadata": {},
   "source": [
    "# **Separation by Standard Units and Experiment type**"
   ]
  },
  {
   "cell_type": "markdown",
   "id": "f2be1945-cd3d-4c0b-9bb4-8343dfb0dbe7",
   "metadata": {},
   "source": [
    "**Separation of experiments by IC50, Inhibition, and Ki. Entries with IC50 values in µg·mL⁻¹ were converted to pIC50. Subsequently, all files were grouped by molecule_chembl_id, and each experiment was manually reviewed in the ChEMBL database to select the appropriate data.**"
   ]
  },
  {
   "cell_type": "code",
   "execution_count": null,
   "id": "e3be865c-f310-433f-9b43-4d6b67457399",
   "metadata": {},
   "outputs": [],
   "source": [
    "!pip install matplotlib"
   ]
  },
  {
   "cell_type": "code",
   "execution_count": 1,
   "id": "b26b861f",
   "metadata": {},
   "outputs": [],
   "source": [
    "import pandas as pd\n",
    "import matplotlib.pyplot as plt"
   ]
  },
  {
   "cell_type": "code",
   "execution_count": 2,
   "id": "9dcdce1c",
   "metadata": {},
   "outputs": [],
   "source": [
    "df = pd.read_excel('df_without_duplicates_smiles_assaysid_fabi_saures.xlsx')"
   ]
  },
  {
   "cell_type": "code",
   "execution_count": 3,
   "id": "9094aef2",
   "metadata": {},
   "outputs": [
    {
     "name": "stdout",
     "output_type": "stream",
     "text": [
      "canonical_smiles\n",
      "Oc1cc(Cl)ccc1Oc1ccc(Cl)cc1Cl                                                                          7\n",
      "CCc1cc(O)c(Oc2ccc(C(N)=O)cc2F)cc1F                                                                    6\n",
      "Cc1c(CN(C)C(=O)/C=C/c2cnc3c(c2)CCC(=O)N3)oc2ccccc12                                                   4\n",
      "O=C1CCc2cc(/C=C/C(=O)N3CCC3)cnc2N1                                                                    4\n",
      "O=C1CCc2cc(/C=C/C(=O)N3CC(OCc4ccccc4)C3)cnc2N1                                                        4\n",
      "                                                                                                     ..\n",
      "O=c1cc(O)cc([C@H]2c3c(cc(/C=C/c4ccc(O)c(O)c4)oc3=O)O[C@@H]2c2ccc(O)c(O)c2)o1                          1\n",
      "CCc1cc(O)c(Oc2cccnc2F)cc1F                                                                            1\n",
      "CCc1cc(O)c(Oc2ccc[nH]c2=O)cc1F                                                                        1\n",
      "CCc1cc(O)c(Oc2cccnc2N)cc1F                                                                            1\n",
      "CC(C)=CCc1c(O)ccc(C(=O)[C@H]2[C@@H](c3c(O)cc(-c4cc5ccc(O)cc5o4)cc3O)C=C(C)C[C@@H]2c2ccc(O)cc2O)c1O    1\n",
      "Name: count, Length: 254, dtype: int64\n"
     ]
    }
   ],
   "source": [
    "# Count the occurrences of each SMILES\n",
    "smiles_counts = df['canonical_smiles'].value_counts()\n",
    "\n",
    "# Display the SMILES and their counts\n",
    "print(smiles_counts)"
   ]
  },
  {
   "cell_type": "code",
   "execution_count": 4,
   "id": "81389c64",
   "metadata": {},
   "outputs": [
    {
     "data": {
      "text/plain": [
       "{'Antibacterial activity against Staphylococcus aureus FabI',\n",
       " 'Binding affinity to Staphylococcus aureus subsp. aureus Rosenbach ATCC 43300 FabI by SPR assay',\n",
       " 'Competitive inhibition of Staphylococcus aureus subsp. aureus Rosenbach ATCC 43300 FabI using crotonyl-CoA as substrate in presence of NADPH/NADH after 10 mins by fluorescence assay',\n",
       " 'Concentration required for the 50% inhibition of enoyl-ACP reductase from Staphylococcus aureus was determined.',\n",
       " 'Evaluated for inhibition of enoyl acyl carrier protein reductase (FabI) in Staphylococcus aureus.',\n",
       " 'Evaluated for inhibition of enoyl acyl carrier protein reductase (FabI) of Staphylococcus aureus in the presence of NADH using crotonoyl CoA as substrate',\n",
       " 'Fluorescence Based Assay: Compound inhibitory activity of FabI enzyme is measured in vitro by the IC5 so determination using a fluorescence based assay.The protein FabI from S. aureus is prepared and purified using standard methods for recombinant protein expression after cloning of the gene in a prokaryotic expression vector.The biochemical activity of the FabI enzyme is assessed using the following method.The assay buffer AB contained 50 mM ADA (N-(2-acetamido)iminodiacetic acid monosodium salt) pH 6.5, 1 mM dithiothreitol, 0.006% Triton-X100 and 50 mM NaCl.The following components are added in a white polystyrene Costar plate (Ref 3912) up to a final volume of 55.5 uL: 1.5 uL DMSO or inhibitor dissolved in DMSO and 54 uL of a FabI/NADPH/NADP+ mixture in AB. After 60 min of pre-incubation at room temperature, the reaction is started by addition of 5 uL of trans-2-octenoyl N-acetylcysteamine thioester (t-o-NAC) to a final volume of 60.5 uL.',\n",
       " 'Fluorescence Based Assay: The assay buffer \"AB\" contained 50 mM ADA (N-(2-acetamido)iminodiacetic acid monosodium salt) pH 6.5, 1 mM dithiothreitol, 0.006% Triton-X100 and 50 mM NaCl. The following components are added in a white polystyrene Costar plate (Ref 3912) up to a final volume of 55.5 uL: 1.5 uL DMSO or inhibitor dissolved in DMSO and 54 uL of a FabI/NADPH/NADP+ mixture in AB. After 60 min of pre-incubation at room temperature, the reaction is started by addition of 5 uL of trans-2-octenoyl N-acetylcysteamine thioester (t-o-NAC) to a final volume of 60.5 uL. This reaction mixture is then composed of 2 nM FabI, 40 uM NADPH (Sigma, N7505), 10 uM NADP+(Sigma, N5755), 100 uM t-O-NAC and compound at defined concentration. Fluorescence intensity of NADPH (lamda=ex=360 nm, lamda=em=520 nm) is measured immediately after t-O-NAC addition (T0), and approximately 50 min later (T50) by a Fluostar Optima (BMG) so as to achieve ~30% of NADPH conversion.',\n",
       " 'Inhibition Assay: The assay buffer AB contained 50 mM ADA (N-(2-acetamido)iminodiacetic acid monosodium salt) pH 6.5, 1 mM dithiothreitol, 0.006% Triton-X100 and 50 mM NaCl. The following components are added in a white polystyrene Costar plate (Ref 3912) up to a final volume of 55.5 uL: 1.5 uL DMSO or inhibitor dissolved in DMSO and 54 uL of a FabI/NADPH/NADP+ mixture in AB. After 60 min of pre-incubation at room temperature, the reaction is started by addition of 5 uL of trans-2-octenoyl N-acetylcysteamine thioester (t-o-NAC) to a final volume of 60.5 uL. This reaction mixture is then composed of 2 nM FabI, 40 uM NADPH (Sigma, N7505), 10 uM NADP+ (Sigma, N5755), 100 uM t-O-NAC and compound at defined concentration. Fluorescence intensity of NADPH (lamda=ex=360 nm, lamda=em=520 nm) is measured immediately after t-O-NAC addition (T0), and approximately 50 min later (T50) by a Fluostar Optima (BMG).',\n",
       " 'Inhibition of Staphylococcus aureus ATCC 29213 FabI in the presence of NADH using crotonyl CoA as substrate by measuring NADH consumption rate',\n",
       " 'Inhibition of Staphylococcus aureus FabI',\n",
       " 'Inhibition of Staphylococcus aureus FabI assessed as inhibition at 10 uM',\n",
       " 'Inhibition of Staphylococcus aureus FabI assessed as inhibition of bacterial growth by measuring the NADH consumption rate at 20 mins',\n",
       " 'Inhibition of Staphylococcus aureus FabI assessed as reduction in inhibition of reduction of trans-2-octenoyl N-acetylcysteamine substrate by spectrophotometry',\n",
       " 'Inhibition of Staphylococcus aureus FabI in the presence of NADH using crotonyl CoA as substrate by measuring NADH consumption rate',\n",
       " 'Inhibition of Staphylococcus aureus FabI-mediated reduction of enoyl-ACP preincubated at 1 uM for 30 mins measured after 2 hrs by spectrophotometry',\n",
       " 'Inhibition of Staphylococcus aureus FabI-mediated reduction of enoyl-ACP preincubated for 30 mins measured after 2 hrs by spectrophotometry',\n",
       " 'Inhibition of Staphylococcus aureus FabI-mediated trans-2-octenoyl N-acetylcysteamine (t-o-NAC thioester) substrate reduction assessed as decrease in NADPH by ELISA',\n",
       " 'Inhibition of Staphylococcus aureus enoyl ACP reductase',\n",
       " 'Inhibition of Staphylococcus aureus enoyl-ACP reductase assessed as increase of NADPH level',\n",
       " 'Inhibition of Staphylococcus aureus recombinant FabI using trans-2-octenoyl N-acetylcysteamine thioester as substrate preincubated for 1 to 2 hrs',\n",
       " 'Inhibition of Staphylococcus aureus recombinant FabI using trans-2-octenoyl N-acetylcysteamine thioester as substrate preincubated for 60 mins',\n",
       " 'Inhibition of Staphylococcus aureus recombinant FabI using trans-2-octenoyl N-acetylcysteamine thioester as substrate preincubated for 60 mins in presence of NADP+',\n",
       " 'Inhibition of Staphylococcus aureus recombinant FabI using trans-2-octenoyl N-acetylcysteamine thioester as substrate preincubated for 60 mins in presence of NADPH',\n",
       " 'Inhibition of Staphylococcus aureus subsp. aureus Rosenbach ATCC 43300 FabI using crotonyl-CoA as substrate in presence of NADPH/NADH after 10 mins by fluorescence assay',\n",
       " 'Inhibitory activity against Enoyl-ACP reductase FabI in Staphylococcus aureus'}"
      ]
     },
     "execution_count": 4,
     "metadata": {},
     "output_type": "execute_result"
    }
   ],
   "source": [
    "set(list(df[\"assay_description\"]))"
   ]
  },
  {
   "cell_type": "code",
   "execution_count": 5,
   "id": "e5c9c437",
   "metadata": {},
   "outputs": [
    {
     "data": {
      "image/png": "[encoded data removed]",
      "text/plain": [
       "<Figure size 1000x600 with 1 Axes>"
      ]
     },
     "metadata": {},
     "output_type": "display_data"
    }
   ],
   "source": [
    "# Set the size of the plot\n",
    "plt.figure(figsize=(10, 6))\n",
    "\n",
    "# Create the histogram of the counts\n",
    "plt.bar(range(len(smiles_counts)), smiles_counts.values, color='blue', edgecolor='black')\n",
    "\n",
    "# Set labels and title\n",
    "plt.xlabel('Canonical SMILES')\n",
    "plt.ylabel('Count')\n",
    "plt.title('Histogram of Canonical SMILES Counts')\n",
    "\n",
    "# Hide the X-axis labels\n",
    "plt.xticks([])\n",
    "\n",
    "# Display the plot\n",
    "plt.tight_layout()\n",
    "plt.show()"
   ]
  },
  {
   "cell_type": "code",
   "execution_count": 6,
   "id": "e33d15b5",
   "metadata": {},
   "outputs": [
    {
     "data": {
      "image/png": "[encoded data removed]",
      "text/plain": [
       "<Figure size 1000x600 with 1 Axes>"
      ]
     },
     "metadata": {},
     "output_type": "display_data"
    }
   ],
   "source": [
    "# Count the occurrences of each Assay Chembl ID\n",
    "smiles_counts = df['assay_chembl_id'].value_counts()\n",
    "\n",
    "# Set the size of the plot\n",
    "plt.figure(figsize=(10, 6))\n",
    "\n",
    "# Create the histogram of the counts\n",
    "plt.bar(range(len(smiles_counts)), smiles_counts.values, color='green', edgecolor='black')\n",
    "\n",
    "# Set labels and title\n",
    "plt.xlabel('Assay Chembl ID')\n",
    "plt.ylabel('Count')\n",
    "plt.title('Histogram of Assay Chembl ID Counts')\n",
    "\n",
    "# Hide the X-axis labels\n",
    "plt.xticks([])\n",
    "\n",
    "# Display the plot\n",
    "plt.tight_layout()\n",
    "plt.show()\n"
   ]
  },
  {
   "cell_type": "code",
   "execution_count": 7,
   "id": "0e1cb684",
   "metadata": {},
   "outputs": [
    {
     "name": "stdout",
     "output_type": "stream",
     "text": [
      "assay_chembl_id\n",
      "CHEMBL3625533    54\n",
      "CHEMBL4182188    29\n",
      "CHEMBL4182177    29\n",
      "CHEMBL3365684    29\n",
      "CHEMBL3365683    29\n",
      "CHEMBL4182166    29\n",
      "CHEMBL3705478    28\n",
      "CHEMBL677574     27\n",
      "CHEMBL3705387    27\n",
      "CHEMBL677570     21\n",
      "CHEMBL2188143    14\n",
      "CHEMBL819485     14\n",
      "CHEMBL1039114    11\n",
      "CHEMBL5231344    11\n",
      "CHEMBL677578     11\n",
      "CHEMBL5231305     9\n",
      "CHEMBL5231308     9\n",
      "CHEMBL5231370     3\n",
      "CHEMBL3705967     3\n",
      "CHEMBL1686899     2\n",
      "CHEMBL3399508     1\n",
      "CHEMBL2188150     1\n",
      "CHEMBL2188141     1\n",
      "CHEMBL2188140     1\n",
      "CHEMBL677571      1\n",
      "CHEMBL3385666     1\n",
      "Name: count, dtype: int64\n"
     ]
    }
   ],
   "source": [
    "# Count the occurrences of each Assay Chembl ID\n",
    "smiles_counts = df['assay_chembl_id'].value_counts()\n",
    "\n",
    "# Display the Assay Chembl IDs and their counts\n",
    "print(smiles_counts)"
   ]
  },
  {
   "cell_type": "code",
   "execution_count": 8,
   "id": "eb142d21",
   "metadata": {},
   "outputs": [
    {
     "name": "stdout",
     "output_type": "stream",
     "text": [
      "                                           action_type assay_chembl_id  \\\n",
      "367  {'action_type': 'INHIBITOR', 'description': 'N...   CHEMBL5231305   \n",
      "368  {'action_type': 'INHIBITOR', 'description': 'N...   CHEMBL5231305   \n",
      "369  {'action_type': 'INHIBITOR', 'description': 'N...   CHEMBL5231305   \n",
      "370  {'action_type': 'INHIBITOR', 'description': 'N...   CHEMBL5231305   \n",
      "\n",
      "                                     assay_description  \\\n",
      "367  Inhibition of Staphylococcus aureus FabI asses...   \n",
      "368  Inhibition of Staphylococcus aureus FabI asses...   \n",
      "369  Inhibition of Staphylococcus aureus FabI asses...   \n",
      "370  Inhibition of Staphylococcus aureus FabI asses...   \n",
      "\n",
      "                                      canonical_smiles ligand_efficiency  \\\n",
      "367  COc1cncc(C(=O)Nc2ccc(/C=C/C(=O)N3CC4C=C(c5ccnn...               NaN   \n",
      "368  O=C1CNCc2cc(/C=C/C(=O)N3C[C@H]4CC(c5ccccc5)=C[...               NaN   \n",
      "369  O=C1CNCc2cc(/C=C/C(=O)N3CC4C=C(c5ccccc5)CC4C3)...               NaN   \n",
      "370  O=C1Nc2ncc(/C=C/C(=O)N3CC4C=C(c5ccsc5)CC4C3)cc...               NaN   \n",
      "\n",
      "    molecule_chembl_id molecule_pref_name standard_type standard_units  \\\n",
      "367      CHEMBL5269135                NaN          IC50        ug.mL-1   \n",
      "368      CHEMBL5291446                NaN          IC50        ug.mL-1   \n",
      "369      CHEMBL5273284                NaN          IC50        ug.mL-1   \n",
      "370      CHEMBL5268904                NaN          IC50        ug.mL-1   \n",
      "\n",
      "     standard_value target_chembl_id        target_organism  type    units  \\\n",
      "367            0.31       CHEMBL3994  Staphylococcus aureus  IC50  ug ml-1   \n",
      "368            0.37       CHEMBL3994  Staphylococcus aureus  IC50  ug ml-1   \n",
      "369            0.35       CHEMBL3994  Staphylococcus aureus  IC50  ug ml-1   \n",
      "370            0.33       CHEMBL3994  Staphylococcus aureus  IC50  ug ml-1   \n",
      "\n",
      "     value  \n",
      "367   0.31  \n",
      "368   0.37  \n",
      "369   0.35  \n",
      "370   0.33  \n"
     ]
    }
   ],
   "source": [
    "# Identify molecule_chembl_id to convert concentrations from ug/mL to µM\n",
    "# List of molecule_chembl_id to search\n",
    "chembl_ids_to_search = ['CHEMBL5269135', 'CHEMBL5291446', 'CHEMBL5273284', 'CHEMBL5268904']\n",
    "\n",
    "# Filter entries that match the specified IDs\n",
    "filtered_df = df[df['molecule_chembl_id'].isin(chembl_ids_to_search)]\n",
    "\n",
    "# Display the filtered DataFrame\n",
    "print(filtered_df)"
   ]
  },
  {
   "cell_type": "code",
   "execution_count": 9,
   "id": "dd5df581",
   "metadata": {},
   "outputs": [
    {
     "name": "stdout",
     "output_type": "stream",
     "text": [
      "Count of entries by 'standard_type':\n",
      "standard_type\n",
      "IC50          302\n",
      "Inhibition     33\n",
      "Ki             31\n",
      "Activity       29\n",
      "Name: count, dtype: int64\n",
      "\n",
      "Count of entries by 'standard_units':\n",
      "standard_units\n",
      "nM         322\n",
      "%           33\n",
      "ug.mL-1      4\n",
      "Name: count, dtype: int64\n"
     ]
    }
   ],
   "source": [
    "# Count the entries for 'standard_type'\n",
    "standard_type_counts = df['standard_type'].value_counts()\n",
    "\n",
    "# Count the entries for 'standard_units'\n",
    "standard_units_counts = df['standard_units'].value_counts()\n",
    "\n",
    "# Display the results\n",
    "print(\"Count of entries by 'standard_type':\")\n",
    "print(standard_type_counts)\n",
    "print(\"\\nCount of entries by 'standard_units':\")\n",
    "print(standard_units_counts)"
   ]
  },
  {
   "cell_type": "code",
   "execution_count": 10,
   "id": "36b3e634",
   "metadata": {},
   "outputs": [
    {
     "name": "stdout",
     "output_type": "stream",
     "text": [
      "Count of entries by 'standard_type':\n",
      "standard_type\n",
      "IC50          302\n",
      "Inhibition     33\n",
      "Ki             31\n",
      "Activity       29\n",
      "Name: count, dtype: int64\n",
      "File saved: df_fabi_s_aureus_IC50.xlsx\n",
      "File saved: df_fabi_s_aureus_Inhibition.xlsx\n",
      "File saved: df_fabi_s_aureus_Ki.xlsx\n",
      "File saved: df_fabi_s_aureus_Activity.xlsx\n"
     ]
    }
   ],
   "source": [
    "# Count the entries for 'standard_type'\n",
    "standard_type_counts = df['standard_type'].value_counts()\n",
    "\n",
    "# Display the results\n",
    "print(\"Count of entries by 'standard_type':\")\n",
    "print(standard_type_counts)\n",
    "\n",
    "# Create separate DataFrames for each 'standard_type' and save them to Excel files\n",
    "for standard_type in standard_type_counts.index:\n",
    "    df_filtered = df[df['standard_type'] == standard_type]\n",
    "    output_file = f'df_fabi_s_aureus_{standard_type}.xlsx'\n",
    "    df_filtered.to_excel(output_file, index=False)\n",
    "    print(f\"File saved: {output_file}\")"
   ]
  },
  {
   "cell_type": "markdown",
   "id": "7120c00b-cd70-4613-be41-1754e07ff8d3",
   "metadata": {},
   "source": [
    "**Previously, the entries 'CHEMBL5269135', 'CHEMBL5291446', 'CHEMBL5273284', and 'CHEMBL5268904' were converted to µM units and added to the file df_fabi_s_aureus_IC50.xlsx, named df_fabi_s_aureus_IC50_complete.xlsx**\n",
    "\n",
    "**Removal of inconsistent data from the FabI S. aureus dataset (IC50 experiments) by grouping molecule_chembl_id. Each inconsistent entry was manually removed during the curation step**"
   ]
  },
  {
   "cell_type": "code",
   "execution_count": 15,
   "id": "1fa85ab4-00d0-4e14-8912-3357b2ebdd87",
   "metadata": {},
   "outputs": [],
   "source": [
    "df = pd.read_excel('df_fabi_s_aureus_IC50_complete.xlsx')"
   ]
  },
  {
   "cell_type": "code",
   "execution_count": 16,
   "id": "d7071292-5bfc-4082-8ff8-66fc32afb78f",
   "metadata": {},
   "outputs": [
    {
     "name": "stdout",
     "output_type": "stream",
     "text": [
      "    molecule_chembl_id action_type  \\\n",
      "0         CHEMBL109420          []   \n",
      "1         CHEMBL109484          []   \n",
      "2         CHEMBL109511          []   \n",
      "3         CHEMBL109805          []   \n",
      "4         CHEMBL110480          []   \n",
      "..                 ...         ...   \n",
      "243        CHEMBL73455          []   \n",
      "244        CHEMBL73580          []   \n",
      "245        CHEMBL73953          []   \n",
      "246        CHEMBL74072          []   \n",
      "247          CHEMBL849          []   \n",
      "\n",
      "                                       assay_chembl_id  \\\n",
      "0                                       [CHEMBL819485]   \n",
      "1                                       [CHEMBL819485]   \n",
      "2                                       [CHEMBL819485]   \n",
      "3                                       [CHEMBL819485]   \n",
      "4                                       [CHEMBL819485]   \n",
      "..                                                 ...   \n",
      "243                                     [CHEMBL677574]   \n",
      "244                                     [CHEMBL677574]   \n",
      "245                                     [CHEMBL677574]   \n",
      "246                                     [CHEMBL677574]   \n",
      "247  [CHEMBL677578, CHEMBL677574, CHEMBL819485, CHE...   \n",
      "\n",
      "                                     assay_description  \\\n",
      "0    [Concentration required for the 50% inhibition...   \n",
      "1    [Concentration required for the 50% inhibition...   \n",
      "2    [Concentration required for the 50% inhibition...   \n",
      "3    [Concentration required for the 50% inhibition...   \n",
      "4    [Concentration required for the 50% inhibition...   \n",
      "..                                                 ...   \n",
      "243  [Antibacterial activity against Staphylococcus...   \n",
      "244  [Antibacterial activity against Staphylococcus...   \n",
      "245  [Antibacterial activity against Staphylococcus...   \n",
      "246  [Antibacterial activity against Staphylococcus...   \n",
      "247  [Inhibitory activity against Enoyl-ACP reducta...   \n",
      "\n",
      "                                      canonical_smiles  \\\n",
      "0       CC(=O)N(C)Cc1cc(C(=O)N(C)Cc2cc3ccccc3n2C)ccc1N   \n",
      "1                CN(Cc1cc2ccccc2n1C)C(=O)CCc1ccc(N)nc1   \n",
      "2         CN1Cc2cc(C(=O)N(C)Cc3cc4ccccc4n3C)ccc2NCC1=O   \n",
      "3                     CN(Cc1cc2ccccc2n1C)C(=O)c1ccccc1   \n",
      "4    COC(=O)CC1Nc2ccc(C(=O)N(C)Cc3cc4ccccc4n3C)cc2C...   \n",
      "..                                                 ...   \n",
      "243  Cc1cc(C(=O)N2CCc3c(n(Cc4ccc(O)cc4)c4ccccc34)C2...   \n",
      "244  O=C(c1ccc(O)c(Cl)c1)N1CCc2c(n(Cc3ccc(O)cc3)c3c...   \n",
      "245  Cc1cc(C(=O)N2CCc3c(n(Cc4ccc(O)cc4)c4ccccc34)C2...   \n",
      "246  O=C(c1ccc(O)cc1)N1CCc2c([nH]c3ccccc23)C1c1ccc(...   \n",
      "247                       Oc1cc(Cl)ccc1Oc1ccc(Cl)cc1Cl   \n",
      "\n",
      "                                     ligand_efficiency molecule_pref_name  \\\n",
      "0    [{'bei': '13.67', 'le': '0.25', 'lle': '2.16',...               None   \n",
      "1    [{'bei': '12.49', 'le': '0.23', 'lle': '1.28',...               None   \n",
      "2    [{'bei': '12.41', 'le': '0.23', 'lle': '1.84',...               None   \n",
      "3                                                   []               None   \n",
      "4    [{'bei': '10.66', 'le': '0.20', 'lle': '2.01',...               None   \n",
      "..                                                 ...                ...   \n",
      "243  [{'bei': '12.98', 'le': '0.24', 'lle': '0.62',...               None   \n",
      "244  [{'bei': '15.70', 'le': '0.30', 'lle': '1.85',...               None   \n",
      "245  [{'bei': '16.35', 'le': '0.30', 'lle': '2.13',...               None   \n",
      "246  [{'bei': '11.84', 'le': '0.21', 'lle': '0.18',...               None   \n",
      "247  [{'bei': '24.71', 'le': '0.57', 'lle': '2.01',...          TRICLOSAN   \n",
      "\n",
      "    standard_type standard_units                             standard_value  \\\n",
      "0            IC50             nM                                   [6700.0]   \n",
      "1            IC50             nM                                  [93700.0]   \n",
      "2            IC50             nM                                  [21200.0]   \n",
      "3            IC50             nM                                 [100000.0]   \n",
      "4            IC50             nM                                  [16500.0]   \n",
      "..            ...            ...                                        ...   \n",
      "243          IC50             nM                                   [2900.0]   \n",
      "244          IC50             nM                                    [160.0]   \n",
      "245          IC50             nM                                    [180.0]   \n",
      "246          IC50             nM                                  [28100.0]   \n",
      "247          IC50             nM  [70.0, 1100.0, 70.0, 1100.0, 59.0, 440.0]   \n",
      "\n",
      "    target_chembl_id        target_organism  type units  \\\n",
      "0         CHEMBL3994  Staphylococcus aureus  IC50    uM   \n",
      "1         CHEMBL3994  Staphylococcus aureus  IC50    uM   \n",
      "2         CHEMBL3994  Staphylococcus aureus  IC50    uM   \n",
      "3         CHEMBL3994  Staphylococcus aureus  IC50    uM   \n",
      "4         CHEMBL3994  Staphylococcus aureus  IC50    uM   \n",
      "..               ...                    ...   ...   ...   \n",
      "243       CHEMBL3994  Staphylococcus aureus  IC50    uM   \n",
      "244       CHEMBL3994  Staphylococcus aureus  IC50    uM   \n",
      "245       CHEMBL3994  Staphylococcus aureus  IC50    uM   \n",
      "246       CHEMBL3994  Staphylococcus aureus  IC50    uM   \n",
      "247       CHEMBL3994  Staphylococcus aureus  IC50    uM   \n",
      "\n",
      "                                   value  \n",
      "0                                  [6.7]  \n",
      "1                                 [93.7]  \n",
      "2                                 [21.2]  \n",
      "3                                [100.0]  \n",
      "4                                 [16.5]  \n",
      "..                                   ...  \n",
      "243                                [2.9]  \n",
      "244                               [0.16]  \n",
      "245                               [0.18]  \n",
      "246                               [28.1]  \n",
      "247  [0.07, 1.1, 0.07, 1.1, 0.059, 0.44]  \n",
      "\n",
      "[248 rows x 15 columns]\n"
     ]
    }
   ],
   "source": [
    "# Define a function to combine values into a list or take the first value (depending on the case)\n",
    "def combine_values(series):\n",
    "    return list(series.dropna())\n",
    "\n",
    "def first_value(series):\n",
    "    return series.dropna().iloc[0] if not series.dropna().empty else None\n",
    "\n",
    "# Group by 'molecule_chembl_id' and combine the columns of interest\n",
    "grouped_df = df.groupby('molecule_chembl_id').agg({\n",
    "    'action_type': combine_values,\n",
    "    'assay_chembl_id': combine_values,\n",
    "    'assay_description': combine_values,\n",
    "    'canonical_smiles': first_value,  # Assuming each 'molecule_chembl_id' has a unique 'canonical_smiles'\n",
    "    'ligand_efficiency': combine_values,\n",
    "    'molecule_pref_name': first_value,  # Assuming each 'molecule_chembl_id' has a unique 'molecule_pref_name'\n",
    "    'standard_type': first_value,  # Assuming each 'molecule_chembl_id' has a unique 'standard_type'\n",
    "    'standard_units': first_value,  # Assuming each 'molecule_chembl_id' has a unique 'standard_units'\n",
    "    'standard_value': combine_values,\n",
    "    'target_chembl_id': first_value,  # Assuming each 'molecule_chembl_id' has a unique 'target_chembl_id'\n",
    "    'target_organism': first_value,  # Assuming each 'molecule_chembl_id' has a unique 'target_organism'\n",
    "    'type': first_value,  # Assuming each 'molecule_chembl_id' has a unique 'type'\n",
    "    'units': first_value,  # Assuming each 'molecule_chembl_id' has a unique 'units'\n",
    "    'value': combine_values\n",
    "}).reset_index()\n",
    "\n",
    "#Display the grouped DataFrame\n",
    "print(grouped_df)"
   ]
  },
  {
   "cell_type": "code",
   "execution_count": 17,
   "id": "05d0efd8-f174-4201-8155-d130753879bf",
   "metadata": {},
   "outputs": [],
   "source": [
    "grouped_df.to_excel('df_fabi_s_aureus_IC50_for_manual_revison.xlsx', index = False)"
   ]
  },
  {
   "cell_type": "code",
   "execution_count": null,
   "id": "01bc1012-51e7-4f42-a3ca-4f833f3a33ad",
   "metadata": {},
   "outputs": [],
   "source": []
  }
 ],
 "metadata": {
  "kernelspec": {
   "display_name": "Python 3 (ipykernel)",
   "language": "python",
   "name": "python3"
  },
  "language_info": {
   "codemirror_mode": {
    "name": "ipython",
    "version": 3
   },
   "file_extension": ".py",
   "mimetype": "text/x-python",
   "name": "python",
   "nbconvert_exporter": "python",
   "pygments_lexer": "ipython3",
   "version": "3.12.7"
  }
 },
 "nbformat": 4,
 "nbformat_minor": 5
}
