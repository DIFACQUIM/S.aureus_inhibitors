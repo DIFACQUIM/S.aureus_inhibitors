{
 "cells": [
  {
   "cell_type": "code",
   "execution_count": 1,
   "id": "0d34ecbe-2d8d-4afe-b69a-8166cdf5c97c",
   "metadata": {},
   "outputs": [],
   "source": [
    "import pandas as pd"
   ]
  },
  {
   "cell_type": "markdown",
   "id": "d5bbdc11-e4a9-44e7-a44a-1b6a19b41d58",
   "metadata": {},
   "source": [
    "## **The libraries (INDDS, DIADS and PYRDS) containing descriptors and predicted pIC<sub>50</sub> can be requested by contacting the author.** \n",
    "Please reach out to the author for access to these resources if required for your analysis.\n"
   ]
  },
  {
   "cell_type": "code",
   "execution_count": 2,
   "id": "fe58ec07-69fb-4d25-afa7-bb8e245919d8",
   "metadata": {},
   "outputs": [],
   "source": [
    "df1 = pd.read_csv('SVR_generated_libraries_descriptors_fingerprint_ppIC50.txt')\n",
    "df2 = pd.read_csv('RR_generated_libraries_descriptors_fingerprint_ppIC50.txt')\n",
    "df3 = pd.read_csv('RFR_generated_libraries_descriptors_fingerprint_ppIC50.txt')"
   ]
  },
  {
   "cell_type": "code",
   "execution_count": 3,
   "id": "4bed6ebf-2716-46bf-9f24-9644f7a46d70",
   "metadata": {},
   "outputs": [
    {
     "data": {
      "text/html": [
       "<div>\n",
       "<style scoped>\n",
       "    .dataframe tbody tr th:only-of-type {\n",
       "        vertical-align: middle;\n",
       "    }\n",
       "\n",
       "    .dataframe tbody tr th {\n",
       "        vertical-align: top;\n",
       "    }\n",
       "\n",
       "    .dataframe thead th {\n",
       "        text-align: right;\n",
       "    }\n",
       "</style>\n",
       "<table border=\"1\" class=\"dataframe\">\n",
       "  <thead>\n",
       "    <tr style=\"text-align: right;\">\n",
       "      <th></th>\n",
       "      <th>NEW_SMILES</th>\n",
       "      <th>Shape Index</th>\n",
       "      <th>Molecular Flexibility</th>\n",
       "      <th>Molecular Complexity</th>\n",
       "      <th>amw</th>\n",
       "      <th>lipinskiHBD</th>\n",
       "      <th>NumRotatableBonds</th>\n",
       "      <th>NumHBD</th>\n",
       "      <th>NumHBA</th>\n",
       "      <th>NumAmideBonds</th>\n",
       "      <th>...</th>\n",
       "      <th>NumAromaticHeterocycles</th>\n",
       "      <th>NumSpiroAtoms</th>\n",
       "      <th>NumAtomStereoCenters</th>\n",
       "      <th>tpsa</th>\n",
       "      <th>CrippenClogP</th>\n",
       "      <th>hallKierAlpha</th>\n",
       "      <th>kappa2</th>\n",
       "      <th>kappa3</th>\n",
       "      <th>fp</th>\n",
       "      <th>Predicted_pIC50</th>\n",
       "    </tr>\n",
       "  </thead>\n",
       "  <tbody>\n",
       "    <tr>\n",
       "      <th>0</th>\n",
       "      <td>Oc1ccc(C=C2CCc3c(n(Cc4ccc(O)cc4)c4ccccc34)C2)cc1</td>\n",
       "      <td>0.55172</td>\n",
       "      <td>0.33101</td>\n",
       "      <td>0.88694</td>\n",
       "      <td>381.475</td>\n",
       "      <td>2</td>\n",
       "      <td>3</td>\n",
       "      <td>2</td>\n",
       "      <td>3</td>\n",
       "      <td>0</td>\n",
       "      <td>...</td>\n",
       "      <td>1</td>\n",
       "      <td>0</td>\n",
       "      <td>0</td>\n",
       "      <td>45.39</td>\n",
       "      <td>5.6731</td>\n",
       "      <td>-3.46</td>\n",
       "      <td>7.173162</td>\n",
       "      <td>3.401712</td>\n",
       "      <td>[0 0 0 ... 0 0 0]</td>\n",
       "      <td>6.000931</td>\n",
       "    </tr>\n",
       "  </tbody>\n",
       "</table>\n",
       "<p>1 rows × 25 columns</p>\n",
       "</div>"
      ],
      "text/plain": [
       "                                         NEW_SMILES  Shape Index  \\\n",
       "0  Oc1ccc(C=C2CCc3c(n(Cc4ccc(O)cc4)c4ccccc34)C2)cc1      0.55172   \n",
       "\n",
       "   Molecular Flexibility  Molecular Complexity      amw  lipinskiHBD  \\\n",
       "0                0.33101               0.88694  381.475            2   \n",
       "\n",
       "   NumRotatableBonds  NumHBD  NumHBA  NumAmideBonds  ...  \\\n",
       "0                  3       2       3              0  ...   \n",
       "\n",
       "   NumAromaticHeterocycles  NumSpiroAtoms  NumAtomStereoCenters   tpsa  \\\n",
       "0                        1              0                     0  45.39   \n",
       "\n",
       "   CrippenClogP  hallKierAlpha    kappa2    kappa3                 fp  \\\n",
       "0        5.6731          -3.46  7.173162  3.401712  [0 0 0 ... 0 0 0]   \n",
       "\n",
       "   Predicted_pIC50  \n",
       "0         6.000931  \n",
       "\n",
       "[1 rows x 25 columns]"
      ]
     },
     "execution_count": 3,
     "metadata": {},
     "output_type": "execute_result"
    }
   ],
   "source": [
    "df1.head(1)"
   ]
  },
  {
   "cell_type": "code",
   "execution_count": 4,
   "id": "094fbdd4-efcd-4684-b1ae-93dfcfee3df1",
   "metadata": {},
   "outputs": [
    {
     "name": "stdout",
     "output_type": "stream",
     "text": [
      "(172026, 25)\n",
      "Index(['NEW_SMILES', 'Shape Index', 'Molecular Flexibility',\n",
      "       'Molecular Complexity', 'amw', 'lipinskiHBD', 'NumRotatableBonds',\n",
      "       'NumHBD', 'NumHBA', 'NumAmideBonds', 'FractionCSP3', 'NumAromaticRings',\n",
      "       'NumAliphaticRings', 'NumSaturatedRings', 'NumHeterocycles',\n",
      "       'NumAromaticHeterocycles', 'NumSpiroAtoms', 'NumAtomStereoCenters',\n",
      "       'tpsa', 'CrippenClogP', 'hallKierAlpha', 'kappa2', 'kappa3', 'fp',\n",
      "       'Predicted_pIC50'],\n",
      "      dtype='object')\n"
     ]
    }
   ],
   "source": [
    "print(df1.shape)\n",
    "print(df1.columns)"
   ]
  },
  {
   "cell_type": "code",
   "execution_count": 5,
   "id": "f16457c0-70f2-49f9-bc61-1699a8572629",
   "metadata": {},
   "outputs": [
    {
     "data": {
      "text/html": [
       "<div>\n",
       "<style scoped>\n",
       "    .dataframe tbody tr th:only-of-type {\n",
       "        vertical-align: middle;\n",
       "    }\n",
       "\n",
       "    .dataframe tbody tr th {\n",
       "        vertical-align: top;\n",
       "    }\n",
       "\n",
       "    .dataframe thead th {\n",
       "        text-align: right;\n",
       "    }\n",
       "</style>\n",
       "<table border=\"1\" class=\"dataframe\">\n",
       "  <thead>\n",
       "    <tr style=\"text-align: right;\">\n",
       "      <th></th>\n",
       "      <th>NEW_SMILES</th>\n",
       "      <th>Shape Index</th>\n",
       "      <th>Molecular Flexibility</th>\n",
       "      <th>Molecular Complexity</th>\n",
       "      <th>amw</th>\n",
       "      <th>lipinskiHBD</th>\n",
       "      <th>NumRotatableBonds</th>\n",
       "      <th>NumHBD</th>\n",
       "      <th>NumHBA</th>\n",
       "      <th>NumAmideBonds</th>\n",
       "      <th>...</th>\n",
       "      <th>NumAromaticHeterocycles</th>\n",
       "      <th>NumSpiroAtoms</th>\n",
       "      <th>NumAtomStereoCenters</th>\n",
       "      <th>tpsa</th>\n",
       "      <th>CrippenClogP</th>\n",
       "      <th>hallKierAlpha</th>\n",
       "      <th>kappa2</th>\n",
       "      <th>kappa3</th>\n",
       "      <th>fp</th>\n",
       "      <th>Predicted_pIC50</th>\n",
       "    </tr>\n",
       "  </thead>\n",
       "  <tbody>\n",
       "    <tr>\n",
       "      <th>0</th>\n",
       "      <td>Oc1ccc(C=C2CCc3c(n(Cc4ccc(O)cc4)c4ccccc34)C2)cc1</td>\n",
       "      <td>0.55172</td>\n",
       "      <td>0.33101</td>\n",
       "      <td>0.88694</td>\n",
       "      <td>381.475</td>\n",
       "      <td>2</td>\n",
       "      <td>3</td>\n",
       "      <td>2</td>\n",
       "      <td>3</td>\n",
       "      <td>0</td>\n",
       "      <td>...</td>\n",
       "      <td>1</td>\n",
       "      <td>0</td>\n",
       "      <td>0</td>\n",
       "      <td>45.39</td>\n",
       "      <td>5.6731</td>\n",
       "      <td>-3.46</td>\n",
       "      <td>7.173162</td>\n",
       "      <td>3.401712</td>\n",
       "      <td>[0 0 0 ... 0 0 0]</td>\n",
       "      <td>5.668976</td>\n",
       "    </tr>\n",
       "  </tbody>\n",
       "</table>\n",
       "<p>1 rows × 25 columns</p>\n",
       "</div>"
      ],
      "text/plain": [
       "                                         NEW_SMILES  Shape Index  \\\n",
       "0  Oc1ccc(C=C2CCc3c(n(Cc4ccc(O)cc4)c4ccccc34)C2)cc1      0.55172   \n",
       "\n",
       "   Molecular Flexibility  Molecular Complexity      amw  lipinskiHBD  \\\n",
       "0                0.33101               0.88694  381.475            2   \n",
       "\n",
       "   NumRotatableBonds  NumHBD  NumHBA  NumAmideBonds  ...  \\\n",
       "0                  3       2       3              0  ...   \n",
       "\n",
       "   NumAromaticHeterocycles  NumSpiroAtoms  NumAtomStereoCenters   tpsa  \\\n",
       "0                        1              0                     0  45.39   \n",
       "\n",
       "   CrippenClogP  hallKierAlpha    kappa2    kappa3                 fp  \\\n",
       "0        5.6731          -3.46  7.173162  3.401712  [0 0 0 ... 0 0 0]   \n",
       "\n",
       "   Predicted_pIC50  \n",
       "0         5.668976  \n",
       "\n",
       "[1 rows x 25 columns]"
      ]
     },
     "execution_count": 5,
     "metadata": {},
     "output_type": "execute_result"
    }
   ],
   "source": [
    "df2.head(1)"
   ]
  },
  {
   "cell_type": "code",
   "execution_count": 6,
   "id": "b29b71c0-0ebc-4e58-81a6-0d6e76355f38",
   "metadata": {},
   "outputs": [
    {
     "name": "stdout",
     "output_type": "stream",
     "text": [
      "(172026, 25)\n",
      "Index(['NEW_SMILES', 'Shape Index', 'Molecular Flexibility',\n",
      "       'Molecular Complexity', 'amw', 'lipinskiHBD', 'NumRotatableBonds',\n",
      "       'NumHBD', 'NumHBA', 'NumAmideBonds', 'FractionCSP3', 'NumAromaticRings',\n",
      "       'NumAliphaticRings', 'NumSaturatedRings', 'NumHeterocycles',\n",
      "       'NumAromaticHeterocycles', 'NumSpiroAtoms', 'NumAtomStereoCenters',\n",
      "       'tpsa', 'CrippenClogP', 'hallKierAlpha', 'kappa2', 'kappa3', 'fp',\n",
      "       'Predicted_pIC50'],\n",
      "      dtype='object')\n"
     ]
    }
   ],
   "source": [
    "print(df2.shape)\n",
    "print(df2.columns)"
   ]
  },
  {
   "cell_type": "code",
   "execution_count": 7,
   "id": "e85ec1e9-5701-4ef9-88a6-1480df347683",
   "metadata": {},
   "outputs": [
    {
     "data": {
      "text/html": [
       "<div>\n",
       "<style scoped>\n",
       "    .dataframe tbody tr th:only-of-type {\n",
       "        vertical-align: middle;\n",
       "    }\n",
       "\n",
       "    .dataframe tbody tr th {\n",
       "        vertical-align: top;\n",
       "    }\n",
       "\n",
       "    .dataframe thead th {\n",
       "        text-align: right;\n",
       "    }\n",
       "</style>\n",
       "<table border=\"1\" class=\"dataframe\">\n",
       "  <thead>\n",
       "    <tr style=\"text-align: right;\">\n",
       "      <th></th>\n",
       "      <th>NEW_SMILES</th>\n",
       "      <th>Shape Index</th>\n",
       "      <th>Molecular Flexibility</th>\n",
       "      <th>Molecular Complexity</th>\n",
       "      <th>amw</th>\n",
       "      <th>lipinskiHBD</th>\n",
       "      <th>NumRotatableBonds</th>\n",
       "      <th>NumHBD</th>\n",
       "      <th>NumHBA</th>\n",
       "      <th>NumAmideBonds</th>\n",
       "      <th>...</th>\n",
       "      <th>NumAromaticHeterocycles</th>\n",
       "      <th>NumSpiroAtoms</th>\n",
       "      <th>NumAtomStereoCenters</th>\n",
       "      <th>tpsa</th>\n",
       "      <th>CrippenClogP</th>\n",
       "      <th>hallKierAlpha</th>\n",
       "      <th>kappa2</th>\n",
       "      <th>kappa3</th>\n",
       "      <th>fp</th>\n",
       "      <th>Predicted_pIC50</th>\n",
       "    </tr>\n",
       "  </thead>\n",
       "  <tbody>\n",
       "    <tr>\n",
       "      <th>0</th>\n",
       "      <td>Oc1ccc(C=C2CCc3c(n(Cc4ccc(O)cc4)c4ccccc34)C2)cc1</td>\n",
       "      <td>0.55172</td>\n",
       "      <td>0.33101</td>\n",
       "      <td>0.88694</td>\n",
       "      <td>381.475</td>\n",
       "      <td>2</td>\n",
       "      <td>3</td>\n",
       "      <td>2</td>\n",
       "      <td>3</td>\n",
       "      <td>0</td>\n",
       "      <td>...</td>\n",
       "      <td>1</td>\n",
       "      <td>0</td>\n",
       "      <td>0</td>\n",
       "      <td>45.39</td>\n",
       "      <td>5.6731</td>\n",
       "      <td>-3.46</td>\n",
       "      <td>7.173162</td>\n",
       "      <td>3.401712</td>\n",
       "      <td>[0 0 0 ... 0 0 0]</td>\n",
       "      <td>5.834342</td>\n",
       "    </tr>\n",
       "  </tbody>\n",
       "</table>\n",
       "<p>1 rows × 25 columns</p>\n",
       "</div>"
      ],
      "text/plain": [
       "                                         NEW_SMILES  Shape Index  \\\n",
       "0  Oc1ccc(C=C2CCc3c(n(Cc4ccc(O)cc4)c4ccccc34)C2)cc1      0.55172   \n",
       "\n",
       "   Molecular Flexibility  Molecular Complexity      amw  lipinskiHBD  \\\n",
       "0                0.33101               0.88694  381.475            2   \n",
       "\n",
       "   NumRotatableBonds  NumHBD  NumHBA  NumAmideBonds  ...  \\\n",
       "0                  3       2       3              0  ...   \n",
       "\n",
       "   NumAromaticHeterocycles  NumSpiroAtoms  NumAtomStereoCenters   tpsa  \\\n",
       "0                        1              0                     0  45.39   \n",
       "\n",
       "   CrippenClogP  hallKierAlpha    kappa2    kappa3                 fp  \\\n",
       "0        5.6731          -3.46  7.173162  3.401712  [0 0 0 ... 0 0 0]   \n",
       "\n",
       "   Predicted_pIC50  \n",
       "0         5.834342  \n",
       "\n",
       "[1 rows x 25 columns]"
      ]
     },
     "execution_count": 7,
     "metadata": {},
     "output_type": "execute_result"
    }
   ],
   "source": [
    "df3.head(1)"
   ]
  },
  {
   "cell_type": "code",
   "execution_count": 8,
   "id": "a14abea5-d9ea-4962-8aa5-87020a12b358",
   "metadata": {},
   "outputs": [
    {
     "name": "stdout",
     "output_type": "stream",
     "text": [
      "(172026, 25)\n",
      "Index(['NEW_SMILES', 'Shape Index', 'Molecular Flexibility',\n",
      "       'Molecular Complexity', 'amw', 'lipinskiHBD', 'NumRotatableBonds',\n",
      "       'NumHBD', 'NumHBA', 'NumAmideBonds', 'FractionCSP3', 'NumAromaticRings',\n",
      "       'NumAliphaticRings', 'NumSaturatedRings', 'NumHeterocycles',\n",
      "       'NumAromaticHeterocycles', 'NumSpiroAtoms', 'NumAtomStereoCenters',\n",
      "       'tpsa', 'CrippenClogP', 'hallKierAlpha', 'kappa2', 'kappa3', 'fp',\n",
      "       'Predicted_pIC50'],\n",
      "      dtype='object')\n"
     ]
    }
   ],
   "source": [
    "print(df3.shape)\n",
    "print(df3.columns)"
   ]
  },
  {
   "cell_type": "code",
   "execution_count": null,
   "id": "fd438d70-322d-4b9b-b483-697985ed622a",
   "metadata": {},
   "outputs": [],
   "source": []
  }
 ],
 "metadata": {
  "kernelspec": {
   "display_name": "Python 3 (ipykernel)",
   "language": "python",
   "name": "python3"
  },
  "language_info": {
   "codemirror_mode": {
    "name": "ipython",
    "version": 3
   },
   "file_extension": ".py",
   "mimetype": "text/x-python",
   "name": "python",
   "nbconvert_exporter": "python",
   "pygments_lexer": "ipython3",
   "version": "3.12.7"
  }
 },
 "nbformat": 4,
 "nbformat_minor": 5
}
