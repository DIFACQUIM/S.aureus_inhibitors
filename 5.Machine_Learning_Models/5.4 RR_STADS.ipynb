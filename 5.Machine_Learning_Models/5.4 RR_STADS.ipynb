{
 "cells": [
  {
   "cell_type": "code",
   "execution_count": 1,
   "id": "1b80257e",
   "metadata": {},
   "outputs": [],
   "source": [
    "import ast\n",
    "import numpy as np\n",
    "import pandas as pd\n",
    "import seaborn as sns\n",
    "import matplotlib.pyplot as plt\n",
    "from scipy.stats import spearmanr\n",
    "from sklearn.model_selection import train_test_split, LeaveOneOut, cross_val_score, GridSearchCV\n",
    "from sklearn.metrics import r2_score, mean_squared_error, mean_absolute_error, make_scorer\n",
    "from sklearn.model_selection import LeaveOneOut\n",
    "from sklearn.pipeline import make_pipeline\n",
    "from sklearn.preprocessing import StandardScaler\n",
    "from sklearn.svm import SVR\n",
    "from sklearn.linear_model import Ridge, RidgeCV\n",
    "from yellowbrick.regressor import prediction_error, ResidualsPlot"
   ]
  },
  {
   "cell_type": "code",
   "execution_count": 2,
   "id": "0a5f2911",
   "metadata": {},
   "outputs": [],
   "source": [
    "# Load the DataFrame from the Excel file\n",
    "file_path = 'STADS_removedActivityCliffs_ECFP42048.xlsx'\n",
    "df = pd.read_excel(file_path)"
   ]
  },
  {
   "cell_type": "code",
   "execution_count": 3,
   "id": "77c1d681",
   "metadata": {},
   "outputs": [
    {
     "name": "stdout",
     "output_type": "stream",
     "text": [
      "(209, 25)\n"
     ]
    },
    {
     "data": {
      "text/html": [
       "<div>\n",
       "<style scoped>\n",
       "    .dataframe tbody tr th:only-of-type {\n",
       "        vertical-align: middle;\n",
       "    }\n",
       "\n",
       "    .dataframe tbody tr th {\n",
       "        vertical-align: top;\n",
       "    }\n",
       "\n",
       "    .dataframe thead th {\n",
       "        text-align: right;\n",
       "    }\n",
       "</style>\n",
       "<table border=\"1\" class=\"dataframe\">\n",
       "  <thead>\n",
       "    <tr style=\"text-align: right;\">\n",
       "      <th></th>\n",
       "      <th>NEW_SMILES</th>\n",
       "      <th>pIC50</th>\n",
       "      <th>amw</th>\n",
       "      <th>lipinskiHBD</th>\n",
       "      <th>NumRotatableBonds</th>\n",
       "      <th>NumHBD</th>\n",
       "      <th>NumHBA</th>\n",
       "      <th>NumAmideBonds</th>\n",
       "      <th>FractionCSP3</th>\n",
       "      <th>NumAromaticRings</th>\n",
       "      <th>...</th>\n",
       "      <th>NumAtomStereoCenters</th>\n",
       "      <th>tpsa</th>\n",
       "      <th>CrippenClogP</th>\n",
       "      <th>hallKierAlpha</th>\n",
       "      <th>kappa2</th>\n",
       "      <th>kappa3</th>\n",
       "      <th>Shape Index</th>\n",
       "      <th>Molecular Flexibility</th>\n",
       "      <th>Molecular Complexity</th>\n",
       "      <th>fp</th>\n",
       "    </tr>\n",
       "  </thead>\n",
       "  <tbody>\n",
       "    <tr>\n",
       "      <th>0</th>\n",
       "      <td>CC(=O)N(C)Cc1cc(C(=O)N(C)Cc2cc3ccccc3n2C)ccc1N</td>\n",
       "      <td>5.173925</td>\n",
       "      <td>378.476</td>\n",
       "      <td>2</td>\n",
       "      <td>5</td>\n",
       "      <td>1</td>\n",
       "      <td>4</td>\n",
       "      <td>2</td>\n",
       "      <td>0.272727</td>\n",
       "      <td>3</td>\n",
       "      <td>...</td>\n",
       "      <td>0</td>\n",
       "      <td>71.57</td>\n",
       "      <td>3.011</td>\n",
       "      <td>-3.28</td>\n",
       "      <td>7.760914</td>\n",
       "      <td>3.856356</td>\n",
       "      <td>0.53571</td>\n",
       "      <td>0.608</td>\n",
       "      <td>0.81905</td>\n",
       "      <td>[0, 0, 0, 0, 0, 0, 0, 0, 0, 0, 0, 0, 0, 0, 0, ...</td>\n",
       "    </tr>\n",
       "  </tbody>\n",
       "</table>\n",
       "<p>1 rows × 25 columns</p>\n",
       "</div>"
      ],
      "text/plain": [
       "                                       NEW_SMILES     pIC50      amw  \\\n",
       "0  CC(=O)N(C)Cc1cc(C(=O)N(C)Cc2cc3ccccc3n2C)ccc1N  5.173925  378.476   \n",
       "\n",
       "   lipinskiHBD  NumRotatableBonds  NumHBD  NumHBA  NumAmideBonds  \\\n",
       "0            2                  5       1       4              2   \n",
       "\n",
       "   FractionCSP3  NumAromaticRings  ...  NumAtomStereoCenters   tpsa  \\\n",
       "0      0.272727                 3  ...                     0  71.57   \n",
       "\n",
       "   CrippenClogP  hallKierAlpha    kappa2    kappa3  Shape Index  \\\n",
       "0         3.011          -3.28  7.760914  3.856356      0.53571   \n",
       "\n",
       "   Molecular Flexibility  Molecular Complexity  \\\n",
       "0                  0.608               0.81905   \n",
       "\n",
       "                                                  fp  \n",
       "0  [0, 0, 0, 0, 0, 0, 0, 0, 0, 0, 0, 0, 0, 0, 0, ...  \n",
       "\n",
       "[1 rows x 25 columns]"
      ]
     },
     "execution_count": 3,
     "metadata": {},
     "output_type": "execute_result"
    }
   ],
   "source": [
    "# Define the columns you want to drop\n",
    "columns_to_drop = {'chi4v', 'chi2v', 'NumUnspecifiedAtomStereoCenters', 'NumAliphaticHeterocycles', \n",
    "                   'NumRings', 'NumHeavyAtoms', 'NumHeteroatoms', 'lipinskiHBA', 'chi3v', \n",
    "                   'labuteASA', 'CrippenMR', 'chi0v', 'Phi', 'kappa1', 'NumSaturatedHeterocycles', \n",
    "                   'lipinskiHBAHBD', 'NumAtoms', 'Total Surface Area', 'chi1v', 'NumBridgeheadAtoms'}\n",
    "\n",
    "# Drop the columns from the DataFrame\n",
    "df = df.drop(columns=columns_to_drop, errors='ignore')\n",
    "\n",
    "print(df.shape)\n",
    "df.head(1)"
   ]
  },
  {
   "cell_type": "code",
   "execution_count": 4,
   "id": "7b2d4237",
   "metadata": {},
   "outputs": [
    {
     "name": "stdout",
     "output_type": "stream",
     "text": [
      "Index(['NEW_SMILES', 'pIC50', 'amw', 'lipinskiHBD', 'NumRotatableBonds',\n",
      "       'NumHBD', 'NumHBA', 'NumAmideBonds', 'FractionCSP3', 'NumAromaticRings',\n",
      "       'NumAliphaticRings', 'NumSaturatedRings', 'NumHeterocycles',\n",
      "       'NumAromaticHeterocycles', 'NumSpiroAtoms', 'NumAtomStereoCenters',\n",
      "       'tpsa', 'CrippenClogP', 'hallKierAlpha', 'kappa2', 'kappa3',\n",
      "       'Shape Index', 'Molecular Flexibility', 'Molecular Complexity', 'fp'],\n",
      "      dtype='object')\n"
     ]
    }
   ],
   "source": [
    "print(df.columns)"
   ]
  },
  {
   "cell_type": "code",
   "execution_count": 5,
   "id": "c89a6872",
   "metadata": {},
   "outputs": [],
   "source": [
    "# Remove specified columns from the dataframe\n",
    "df = df.drop(columns = ['NEW_SMILES'])"
   ]
  },
  {
   "cell_type": "code",
   "execution_count": 6,
   "id": "59752c57",
   "metadata": {},
   "outputs": [
    {
     "name": "stdout",
     "output_type": "stream",
     "text": [
      "Index(['pIC50', 'amw', 'lipinskiHBD', 'NumRotatableBonds', 'NumHBD', 'NumHBA',\n",
      "       'NumAmideBonds', 'FractionCSP3', 'NumAromaticRings',\n",
      "       'NumAliphaticRings', 'NumSaturatedRings', 'NumHeterocycles',\n",
      "       'NumAromaticHeterocycles', 'NumSpiroAtoms', 'NumAtomStereoCenters',\n",
      "       'tpsa', 'CrippenClogP', 'hallKierAlpha', 'kappa2', 'kappa3',\n",
      "       'Shape Index', 'Molecular Flexibility', 'Molecular Complexity', 'fp'],\n",
      "      dtype='object')\n"
     ]
    }
   ],
   "source": [
    "print(df.columns)"
   ]
  },
  {
   "cell_type": "code",
   "execution_count": 7,
   "id": "stable-movie",
   "metadata": {},
   "outputs": [
    {
     "name": "stdout",
     "output_type": "stream",
     "text": [
      "      pIC50      amw  lipinskiHBD  NumRotatableBonds  NumHBD  NumHBA  \\\n",
      "0  5.173925  378.476            2                  5       1       4   \n",
      "\n",
      "   NumAmideBonds  FractionCSP3  NumAromaticRings  NumAliphaticRings  ...  \\\n",
      "0              2      0.272727                 3                  0  ...   \n",
      "\n",
      "   NumAtomStereoCenters   tpsa  CrippenClogP  hallKierAlpha    kappa2  \\\n",
      "0                     0  71.57         3.011          -3.28  7.760914   \n",
      "\n",
      "     kappa3  Shape Index  Molecular Flexibility  Molecular Complexity  \\\n",
      "0  3.856356      0.53571                  0.608               0.81905   \n",
      "\n",
      "                                                  fp  \n",
      "0  [0, 0, 0, 0, 0, 0, 0, 0, 0, 0, 0, 0, 0, 0, 0, ...  \n",
      "\n",
      "[1 rows x 24 columns]\n",
      "(209, 24)\n"
     ]
    }
   ],
   "source": [
    "# Display the new DataFrame\n",
    "print(df.head(1))\n",
    "print(df.shape)"
   ]
  },
  {
   "cell_type": "code",
   "execution_count": 8,
   "id": "aa935862-ee1b-4244-bf37-0a76321b1b17",
   "metadata": {},
   "outputs": [],
   "source": [
    "# Apply ast.literal_eval only if the element is a string\n",
    "df['fp'] = df['fp'].apply(lambda x: np.array(ast.literal_eval(x)) if isinstance(x, str) else np.array(x))\n",
    "\n",
    "# Extract features and target variable\n",
    "X = np.stack(df['fp'].values)\n",
    "y = df['pIC50'].values"
   ]
  },
  {
   "cell_type": "code",
   "execution_count": 9,
   "id": "876c79c6",
   "metadata": {},
   "outputs": [],
   "source": [
    "X_train, X_test, y_train, y_test = train_test_split(X, y, test_size=0.25, random_state=10001010)"
   ]
  },
  {
   "cell_type": "markdown",
   "id": "vocational-disney",
   "metadata": {},
   "source": [
    "## Ridge Linear Regression"
   ]
  },
  {
   "cell_type": "code",
   "execution_count": 36,
   "id": "07c0daf4",
   "metadata": {},
   "outputs": [
    {
     "name": "stdout",
     "output_type": "stream",
     "text": [
      "Best alpha: 13.0\n"
     ]
    }
   ],
   "source": [
    "# Initialize RidgeCV with multiple alpha values to perform Ridge regression with cross-validation.\n",
    "# The `alphas` parameter specifies a range of values for the regularization strength.\n",
    "# `cv=10` specifies that 10-fold cross-validation is used to evaluate each alpha.\n",
    "ridge_cv = RidgeCV(alphas=[0.001, 0.01, 0.1, 1, 3, 4, 5, 5.5, 6, 10, 10.5, 12, 13, 15, 15.5, 18, 20, 20.5, 25, 25.5], cv=10).fit(X_train, y_train)\n",
    "\n",
    "# Output the best alpha value determined by cross-validation, which provides the optimal balance\n",
    "# between complexity and performance of the model.\n",
    "print(f\"Best alpha: {ridge_cv.alpha_}\")\n"
   ]
  },
  {
   "cell_type": "code",
   "execution_count": null,
   "id": "b410cd7a-bfe3-4bf3-bf7e-9920d9da9f4d",
   "metadata": {},
   "outputs": [],
   "source": [
    "# Define the Ridge regression model without scaling\n",
    "ridge_model = Ridge()\n",
    "\n",
    "# Define the hyperparameters to search over\n",
    "param_grid = {\n",
    "    'alpha': np.logspace(-3, 3, 13),  # Search alphas from 0.001 to 1000 in log scale\n",
    "    'fit_intercept': [True, False],\n",
    "    'solver': ['auto', 'svd', 'cholesky', 'lsqr', 'sparse_cg', 'sag', 'saga']\n",
    "}\n",
    "\n",
    "# Set up GridSearchCV with 5-fold cross-validation\n",
    "grid_search = GridSearchCV(ridge_model, param_grid, cv=5, scoring='r2', n_jobs=-1, verbose=1)\n",
    "\n",
    "# Fit the GridSearchCV to the training data\n",
    "grid_search.fit(X_train, y_train)\n",
    "\n",
    "# Output the best hyperparameters and the best score\n",
    "print(f\"Best parameters: {grid_search.best_params_}\")\n",
    "print(f\"Best cross-validation R² score: {grid_search.best_score_}\")\n",
    "\n",
    "# Use the best estimator to make predictions\n",
    "best_model = grid_search.best_estimator_\n",
    "train_predictions = best_model.predict(X_train)\n",
    "test_predictions = best_model.predict(X_test)\n"
   ]
  },
  {
   "cell_type": "code",
   "execution_count": 10,
   "id": "c778aa58-19c1-406c-bb4a-852ce11ba1df",
   "metadata": {},
   "outputs": [
    {
     "name": "stdout",
     "output_type": "stream",
     "text": [
      "The mean absolute error: 0.3900818343231834\n",
      "The root mean squared error: 0.46711618205483557\n",
      "Spearman correlation on test set: 0.9019615794870295\n",
      "Spearman correlation on train set: 0.9278409910730491\n"
     ]
    }
   ],
   "source": [
    "# Fit the Ridge regression model using the scaled features\n",
    "ridge = Ridge(alpha=10, fit_intercept=True, solver='saga') \n",
    "ridge.fit(X_train, y_train)\n",
    "\n",
    "# Get predictions for both training and test sets\n",
    "train_predictions = ridge.predict(X_train)\n",
    "predictions = ridge.predict(X_test)\n",
    "\n",
    "# Calculate performance metrics\n",
    "mae = mean_absolute_error(y_test, predictions)\n",
    "rmse = np.sqrt(mean_squared_error(y_test, predictions))\n",
    "r2_test = r2_score(y_test, predictions)\n",
    "r2_train = r2_score(y_train, train_predictions)\n",
    "\n",
    "# Calculate Spearman correlation\n",
    "spearman_corr, _ = spearmanr(y_test, predictions)\n",
    "spearman_train, _ =spearmanr(y_train, train_predictions)\n",
    "# Print performance metrics and Spearman correlation\n",
    "print(f\"The mean absolute error: {mae}\")\n",
    "print(f\"The root mean squared error: {rmse}\")\n",
    "print(f\"Spearman correlation on test set: {spearman_corr}\")\n",
    "print(f\"Spearman correlation on train set: {spearman_train}\")"
   ]
  },
  {
   "cell_type": "code",
   "execution_count": 13,
   "id": "personal-postage",
   "metadata": {},
   "outputs": [
    {
     "data": {
      "image/png": "[encoded data removed]",
      "text/plain": [
       "<Figure size 1000x600 with 1 Axes>"
      ]
     },
     "metadata": {},
     "output_type": "display_data"
    },
    {
     "data": {
      "image/png": "[encoded data removed]",
      "text/plain": [
       "<Figure size 1000x600 with 1 Axes>"
      ]
     },
     "metadata": {},
     "output_type": "display_data"
    }
   ],
   "source": [
    "# predicted values:\n",
    "train_predictions = ridge.predict(X_train)\n",
    "test_predictions = ridge.predict(X_test)\n",
    "\n",
    "# Calculate R^2 for training and test sets\n",
    "r2_train = r2_score(y_train, train_predictions)\n",
    "r2_test = r2_score(y_test, test_predictions)\n",
    "\n",
    "# Plot predictions vs actual for the test set\n",
    "plt.figure(figsize=(10, 6))\n",
    "ax = sns.regplot(x=y_test, y=test_predictions, scatter_kws={'s':15}, color='darkblue', label='test set')  # label='Test Set'\n",
    "\n",
    "# Set labels and title\n",
    "ax.set_xlabel(\"Experimental pIC50\", fontsize=16)  # Set x-axis label with font size\n",
    "ax.set_ylabel(\"Predicted pIC50\", fontsize=16)  # Set y-axis label with font size\n",
    "plt.title(f\"Test Set: R² = {r2_test:.3f}\", fontsize=14)  # Set title with font size\n",
    "ax.grid(False)\n",
    "# Display the plot for the test set\n",
    "plt.legend()\n",
    "plt.show()\n",
    "\n",
    "# Plot predictions vs actual for the training set\n",
    "plt.figure(figsize=(10, 6))\n",
    "ax = sns.regplot(x=y_train, y=train_predictions, scatter_kws={'s':15}, color='darkgreen', label='train set') #label='train Set'\n",
    "\n",
    "# Set labels and title\n",
    "ax.set_xlabel(\"Experimental pIC50\", fontsize=16)  # Set x-axis label with font size\n",
    "ax.set_ylabel(\"Calculated pIC50\", fontsize=16) \n",
    "ax.grid(False)\n",
    "# Display the plot for the training set\n",
    "plt.legend()\n",
    "plt.show()"
   ]
  },
  {
   "cell_type": "code",
   "execution_count": 12,
   "id": "320342a1-8f41-4a3d-9b5a-9bdbf73f7fa2",
   "metadata": {},
   "outputs": [
    {
     "name": "stdout",
     "output_type": "stream",
     "text": [
      "Cross-Validation Spearman Correlation Scores: [0.57195235 0.60812582 0.8143779  0.78306452 0.73454986]\n",
      "Mean Cross-Validation Spearman Correlation Score: 0.7024140883177837\n"
     ]
    }
   ],
   "source": [
    "# Define a custom scoring function for Spearman correlation\n",
    "def spearman_corr(y_true, y_pred):\n",
    "    return spearmanr(y_true, y_pred)[0]  # Only return the correlation coefficient\n",
    "\n",
    "# Create a scorer based on the custom Spearman function\n",
    "spearman_scorer = make_scorer(spearman_corr, greater_is_better=True)\n",
    "\n",
    "# Perform cross-validation with 5 folds using the Spearman correlation as the scoring metric\n",
    "cv_scores_spearman = cross_val_score(ridge, X_train, y_train, cv=5, scoring=spearman_scorer)\n",
    "\n",
    "# Print the cross-validation Spearman correlation scores\n",
    "print(f\"Cross-Validation Spearman Correlation Scores: {cv_scores_spearman}\")\n",
    "print(f\"Mean Cross-Validation Spearman Correlation Score: {cv_scores_spearman.mean()}\")\n"
   ]
  },
  {
   "cell_type": "code",
   "execution_count": 53,
   "id": "bef8e000",
   "metadata": {},
   "outputs": [
    {
     "name": "stdout",
     "output_type": "stream",
     "text": [
      "Mean LOOCV MSE score: 0.2926596827676602\n"
     ]
    }
   ],
   "source": [
    "# Set up Leave-One-Out Cross-Validation\n",
    "loo = LeaveOneOut()\n",
    "\n",
    "# Use MSE as the scoring function for LOOCV\n",
    "mse_scorer = make_scorer(mean_squared_error, greater_is_better=False)\n",
    "\n",
    "# Perform LOOCV using MSE as the scoring metric\n",
    "loocv_scores = cross_val_score(ridge, X, y, cv=loo, scoring=mse_scorer)\n",
    "\n",
    "# Calculate the mean MSE score from LOOCV (note that cross_val_score returns negative MSE values)\n",
    "mean_loocv_mse = -loocv_scores.mean()\n",
    "\n",
    "# Output the LOOCV MSE scores and the mean MSE score\n",
    "#print(f\"LOOCV MSE scores: {loocv_scores}\")\n",
    "print(f\"Mean LOOCV MSE score: {mean_loocv_mse}\")"
   ]
  },
  {
   "cell_type": "markdown",
   "id": "dbb75a0d",
   "metadata": {},
   "source": [
    "### **Making prediction of new data on trained model**"
   ]
  },
  {
   "cell_type": "code",
   "execution_count": 47,
   "id": "5506f0f6",
   "metadata": {},
   "outputs": [],
   "source": [
    "# Prepare the dataset\n",
    "new_file_path = 'file with compounds generated by transformation rules.txt'  # Replace with your actual file path\n",
    "new_df = pd.read_csv(new_file_path)"
   ]
  },
  {
   "cell_type": "code",
   "execution_count": 48,
   "id": "c741c414",
   "metadata": {},
   "outputs": [
    {
     "name": "stdout",
     "output_type": "stream",
     "text": [
      "(209, 24)\n"
     ]
    },
    {
     "data": {
      "text/html": [
       "<div>\n",
       "<style scoped>\n",
       "    .dataframe tbody tr th:only-of-type {\n",
       "        vertical-align: middle;\n",
       "    }\n",
       "\n",
       "    .dataframe tbody tr th {\n",
       "        vertical-align: top;\n",
       "    }\n",
       "\n",
       "    .dataframe thead th {\n",
       "        text-align: right;\n",
       "    }\n",
       "</style>\n",
       "<table border=\"1\" class=\"dataframe\">\n",
       "  <thead>\n",
       "    <tr style=\"text-align: right;\">\n",
       "      <th></th>\n",
       "      <th>NEW_SMILES</th>\n",
       "      <th>Shape Index</th>\n",
       "      <th>Molecular Flexibility</th>\n",
       "      <th>Molecular Complexity</th>\n",
       "      <th>amw</th>\n",
       "      <th>lipinskiHBD</th>\n",
       "      <th>NumRotatableBonds</th>\n",
       "      <th>NumHBD</th>\n",
       "      <th>NumHBA</th>\n",
       "      <th>NumAmideBonds</th>\n",
       "      <th>...</th>\n",
       "      <th>NumHeterocycles</th>\n",
       "      <th>NumAromaticHeterocycles</th>\n",
       "      <th>NumSpiroAtoms</th>\n",
       "      <th>NumAtomStereoCenters</th>\n",
       "      <th>tpsa</th>\n",
       "      <th>CrippenClogP</th>\n",
       "      <th>hallKierAlpha</th>\n",
       "      <th>kappa2</th>\n",
       "      <th>kappa3</th>\n",
       "      <th>fp</th>\n",
       "    </tr>\n",
       "  </thead>\n",
       "  <tbody>\n",
       "    <tr>\n",
       "      <th>0</th>\n",
       "      <td>Oc1ccc(C=C2CCc3c(n(Cc4ccc(O)cc4)c4ccccc34)C2)cc1</td>\n",
       "      <td>0.55172</td>\n",
       "      <td>0.33101</td>\n",
       "      <td>0.88694</td>\n",
       "      <td>381.475</td>\n",
       "      <td>2</td>\n",
       "      <td>3</td>\n",
       "      <td>2</td>\n",
       "      <td>3</td>\n",
       "      <td>0</td>\n",
       "      <td>...</td>\n",
       "      <td>1</td>\n",
       "      <td>1</td>\n",
       "      <td>0</td>\n",
       "      <td>0</td>\n",
       "      <td>45.39</td>\n",
       "      <td>5.6731</td>\n",
       "      <td>-3.46</td>\n",
       "      <td>7.173162</td>\n",
       "      <td>3.401712</td>\n",
       "      <td>[0, 0, 0, 0, 0, 0, 0, 0, 0, 0, 0, 0, 0, 0, 0, ...</td>\n",
       "    </tr>\n",
       "  </tbody>\n",
       "</table>\n",
       "<p>1 rows × 24 columns</p>\n",
       "</div>"
      ],
      "text/plain": [
       "                                         NEW_SMILES  Shape Index  \\\n",
       "0  Oc1ccc(C=C2CCc3c(n(Cc4ccc(O)cc4)c4ccccc34)C2)cc1      0.55172   \n",
       "\n",
       "   Molecular Flexibility  Molecular Complexity      amw  lipinskiHBD  \\\n",
       "0                0.33101               0.88694  381.475            2   \n",
       "\n",
       "   NumRotatableBonds  NumHBD  NumHBA  NumAmideBonds  ...  NumHeterocycles  \\\n",
       "0                  3       2       3              0  ...                1   \n",
       "\n",
       "   NumAromaticHeterocycles  NumSpiroAtoms  NumAtomStereoCenters   tpsa  \\\n",
       "0                        1              0                     0  45.39   \n",
       "\n",
       "   CrippenClogP  hallKierAlpha    kappa2    kappa3  \\\n",
       "0        5.6731          -3.46  7.173162  3.401712   \n",
       "\n",
       "                                                  fp  \n",
       "0  [0, 0, 0, 0, 0, 0, 0, 0, 0, 0, 0, 0, 0, 0, 0, ...  \n",
       "\n",
       "[1 rows x 24 columns]"
      ]
     },
     "execution_count": 48,
     "metadata": {},
     "output_type": "execute_result"
    }
   ],
   "source": [
    "# Define the columns you want to drop\n",
    "columns_to_drop = {'chi4v', 'chi2v', 'NumUnspecifiedAtomStereoCenters', 'NumAliphaticHeterocycles', \n",
    "                   'NumRings', 'NumHeavyAtoms', 'NumHeteroatoms', 'lipinskiHBA', 'chi3v', \n",
    "                   'labuteASA', 'CrippenMR', 'chi0v', 'Phi', 'kappa1', 'NumSaturatedHeterocycles', \n",
    "                   'lipinskiHBAHBD', 'NumAtoms', 'Total Surface Area', 'chi1v', 'NumBridgeheadAtoms'}\n",
    "\n",
    "# Drop the columns from the DataFrame\n",
    "new_df = new_df.drop(columns=columns_to_drop, errors='ignore')\n",
    "\n",
    "print(df.shape)\n",
    "new_df.head(1)"
   ]
  },
  {
   "cell_type": "code",
   "execution_count": 49,
   "id": "39b6632e",
   "metadata": {},
   "outputs": [],
   "source": [
    "if 'fp' in new_df.columns:\n",
    "    new_df['fp'] = new_df['fp'].apply(ast.literal_eval)\n",
    "    new_df['fp'] = new_df['fp'].apply(lambda x: np.array(x))"
   ]
  },
  {
   "cell_type": "code",
   "execution_count": 50,
   "id": "3595cf53",
   "metadata": {},
   "outputs": [],
   "source": [
    "# Step 3: Use the Trained Model to Make Predictions on the New Dataset\n",
    "X_new = np.stack(new_df['fp'].values)\n",
    "predictions_new = ridge.predict(X_new)"
   ]
  },
  {
   "cell_type": "code",
   "execution_count": 51,
   "id": "4f3cd1f0",
   "metadata": {},
   "outputs": [
    {
     "name": "stdout",
     "output_type": "stream",
     "text": [
      "                                          NEW_SMILES  Predicted_pIC50\n",
      "0   Oc1ccc(C=C2CCc3c(n(Cc4ccc(O)cc4)c4ccccc34)C2)cc1         5.668976\n",
      "1  N=C(c1ccc(O)cc1)N1CCc2c(n(Cc3ccc(O)cc3)c3ccccc...         5.720242\n",
      "2  O=C(Oc1ccc(O)cc1)N1CCc2c(n(Cc3ccc(O)cc3)c3cccc...         6.072160\n",
      "3  O=C(Nc1ccc(O)cc1)N1CCc2c(n(Cc3ccc(O)cc3)c3cccc...         5.744659\n",
      "4  O=C(Sc1ccc(O)cc1)N1CCc2c(n(Cc3ccc(O)cc3)c3cccc...         5.813325\n",
      "172026\n",
      "2\n"
     ]
    }
   ],
   "source": [
    "#Assign Predicted pIC50 Values to Respective SMILES\n",
    "new_df = new_df.copy()\n",
    "new_df['Predicted_pIC50'] = predictions_new\n",
    "print(new_df[['NEW_SMILES', 'Predicted_pIC50']].head())\n",
    "print(len(new_df))\n",
    "print(len(new_df.shape))"
   ]
  },
  {
   "cell_type": "code",
   "execution_count": 52,
   "id": "3c108351",
   "metadata": {},
   "outputs": [],
   "source": [
    "new_df.to_csv('Save your file.txt', index=False)\n"
   ]
  },
  {
   "cell_type": "code",
   "execution_count": 53,
   "id": "321f9348",
   "metadata": {},
   "outputs": [
    {
     "name": "stdout",
     "output_type": "stream",
     "text": [
      "count    172026.000000\n",
      "mean          5.943694\n",
      "std           0.372374\n",
      "min           4.780570\n",
      "25%           5.704116\n",
      "50%           5.894186\n",
      "75%           6.112786\n",
      "max           7.798237\n",
      "Name: Predicted_pIC50, dtype: float64\n"
     ]
    }
   ],
   "source": [
    "# Analyze predicted pIC50 values\n",
    "print(new_df['Predicted_pIC50'].describe())\n"
   ]
  },
  {
   "cell_type": "markdown",
   "id": "992a2bdd",
   "metadata": {},
   "source": [
    "Plotting Predicted pIC50 Values vs. Molecule ID"
   ]
  },
  {
   "cell_type": "code",
   "execution_count": null,
   "id": "62e95fc1",
   "metadata": {},
   "outputs": [],
   "source": []
  }
 ],
 "metadata": {
  "kernelspec": {
   "display_name": "Python 3 (ipykernel)",
   "language": "python",
   "name": "python3"
  },
  "language_info": {
   "codemirror_mode": {
    "name": "ipython",
    "version": 3
   },
   "file_extension": ".py",
   "mimetype": "text/x-python",
   "name": "python",
   "nbconvert_exporter": "python",
   "pygments_lexer": "ipython3",
   "version": "3.12.7"
  }
 },
 "nbformat": 4,
 "nbformat_minor": 5
}
